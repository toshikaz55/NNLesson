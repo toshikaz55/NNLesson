{
 "cells": [
  {
   "cell_type": "markdown",
   "metadata": {},
   "source": [
    "# 活性化関数\n",
    "a: 重み付き信号の和\n",
    "$$a = b + w_1x_1 + x_2x_2$$\n",
    "$$y = h(a)$$\n",
    "h(): 活性化関数  \n",
    "入力信号の総和を出力信号に変換する関数\n",
    "\n",
    "## ステップ関数\n",
    "\\begin{eqnarray}\n",
    "h(x) = \\left\\{ \\begin{array}{l}\n",
    "0 & (x <= 0) \\\\\n",
    "1 & (x > 0) \\\\\n",
    "\\end{array} \\right.\n",
    "\\end{eqnarray}\n",
    "\n",
    "## シグモイド関数\n",
    "$$h(x) = \\frac{1}{1+e^{-x}}$$"
   ]
  },
  {
   "cell_type": "code",
   "execution_count": 7,
   "metadata": {},
   "outputs": [
    {
     "data": {
      "image/png": "[encoded data removed]",
      "text/plain": [
       "<matplotlib.figure.Figure at 0x169ddaa24e0>"
      ]
     },
     "metadata": {},
     "output_type": "display_data"
    }
   ],
   "source": [
    "%matplotlib inline\n",
    "import numpy as np\n",
    "import matplotlib.pylab as plt\n",
    "\n",
    "def step_function(x):\n",
    "    #if x > 0:\n",
    "    #    return 1\n",
    "    #else:\n",
    "    #    return 0\n",
    "    return np.array( x > 0, dtype=np.int)\n",
    "\n",
    "def sigmoid(x):\n",
    "    return 1 / (1+np.exp(-x))\n",
    "\n",
    "x = np.arange(-5.0, 5.0, 0.1)\n",
    "step_y = step_function(x)\n",
    "sig_y = sigmoid(x)\n",
    "plt.plot(x, step_y)\n",
    "plt.plot(x, sig_y)\n",
    "plt.ylim(-0.1, 1.1)\n",
    "plt.show()"
   ]
  },
  {
   "cell_type": "code",
   "execution_count": null,
   "metadata": {},
   "outputs": [],
   "source": []
  }
 ],
 "metadata": {
  "kernelspec": {
   "display_name": "Python 3",
   "language": "python",
   "name": "python3"
  },
  "language_info": {
   "codemirror_mode": {
    "name": "ipython",
    "version": 3
   },
   "file_extension": ".py",
   "mimetype": "text/x-python",
   "name": "python",
   "nbconvert_exporter": "python",
   "pygments_lexer": "ipython3",
   "version": "3.6.3"
  }
 },
 "nbformat": 4,
 "nbformat_minor": 2
}
